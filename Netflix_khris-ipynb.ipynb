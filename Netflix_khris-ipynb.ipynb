{
 "cells": [
  {
   "cell_type": "code",
   "execution_count": null,
   "metadata": {
    "scrolled": true
   },
   "outputs": [],
   "source": [
    "import pandas as pd\n",
    "import os\n",
    "import csv\n",
    "import matplotlib.pyplot as plt\n",
    "\n",
    "# Join Netflix_titles.csv\n",
    "csvpath1 = os.path.join('netflix_titles.csv')\n",
    "\n",
    "with open(csvpath1, 'r', encoding='utf-8') as csvfile:\n",
    "    csvreader = csv.reader(csvfile, delimiter=',')\n",
    "    for row in csvreader:\n",
    "        print(row)"
   ]
  },
  {
   "cell_type": "code",
   "execution_count": null,
   "metadata": {},
   "outputs": [],
   "source": [
    "netflix_titles_df = pd.read_csv(csvpath1)\n",
    "netflix_titles_df"
   ]
  },
  {
   "cell_type": "code",
   "execution_count": null,
   "metadata": {},
   "outputs": [],
   "source": [
    "netflix_titles_df=netflix_titles_df.drop([\"show_id\", \"description\", \"cast\",], axis=1)\n",
    "# netflix_titles_df[['director', 'country']] = netflix_titles_df[['director', 'country']].replace(np.nan, \"Unknown \")\n",
    "netflix_titles_df.dropna()"
   ]
  },
  {
   "cell_type": "code",
   "execution_count": null,
   "metadata": {},
   "outputs": [],
   "source": [
    "csvpath2= os.path.join('imdb.csv')\n",
    "\n",
    "with open(csvpath2, 'r', encoding='utf-8') as csvfile:\n",
    "    csvreader = csv.reader(csvfile, delimiter=',')\n",
    "    for row in csvreader:\n",
    "        print(row)"
   ]
  },
  {
   "cell_type": "code",
   "execution_count": null,
   "metadata": {},
   "outputs": [],
   "source": [
    "imdb_df = pd.read_csv(csvpath2)\n",
    "imdb_df"
   ]
  },
  {
   "cell_type": "code",
   "execution_count": null,
   "metadata": {},
   "outputs": [],
   "source": [
    "\n",
    "imdb_df.dropna(inplace=True)\n",
    "imdb_df"
   ]
  },
  {
   "cell_type": "code",
   "execution_count": null,
   "metadata": {},
   "outputs": [],
   "source": [
    "csvpath3 = os.path.join('world_country.csv')\n",
    "with open(csvpath3, 'r', encoding='utf-8') as csvfile:\n",
    "    csvreader = csv.reader(csvfile, delimiter=',')\n",
    "    for row in csvreader:\n",
    "        print(row)"
   ]
  },
  {
   "cell_type": "code",
   "execution_count": null,
   "metadata": {},
   "outputs": [],
   "source": [
    "world_country_df = pd.read_csv(csvpath3)\n",
    "print(\"Null or NaN values\")\n",
    "print(world_country_df.isnull().sum())"
   ]
  },
  {
   "cell_type": "code",
   "execution_count": null,
   "metadata": {},
   "outputs": [],
   "source": [
    "lat_lon= world_country_df[['latitude', 'longitude', 'country']]\n",
    "lat_lon\n"
   ]
  },
  {
   "cell_type": "code",
   "execution_count": null,
   "metadata": {},
   "outputs": [],
   "source": [
    "netflix_titles_df[\"country\"].value_counts()[0:50]"
   ]
  },
  {
   "cell_type": "code",
   "execution_count": null,
   "metadata": {},
   "outputs": [],
   "source": [
    "netflix_titles_df['country'] = netflix_titles_df ['country'].str.split(',').str[0]\n",
    "netflix_titles_df[\"country\"].value_counts()[0:50]"
   ]
  },
  {
   "cell_type": "code",
   "execution_count": null,
   "metadata": {},
   "outputs": [],
   "source": [
    "netflix_titles_df['date_added'] = netflix_titles_df ['date_added'].str.split(',').str[-1]\n",
    "netflix_titles_df"
   ]
  },
  {
   "cell_type": "code",
   "execution_count": null,
   "metadata": {},
   "outputs": [],
   "source": [
    "netflix_df = pd.merge(lat_lon, netflix_titles_df, on = \"country\")\n",
    "netflix_df\n"
   ]
  },
  {
   "cell_type": "code",
   "execution_count": null,
   "metadata": {},
   "outputs": [],
   "source": [
    "netflix_df['country_count'] = netflix_df.groupby('country')['country'].transform('count')\n",
    "netflix_df"
   ]
  },
  {
   "cell_type": "code",
   "execution_count": null,
   "metadata": {},
   "outputs": [],
   "source": [
    "netflix_movie_df = netflix_df.loc[netflix_df[\"type\"] == 'Movie', :]\n",
    "netflix_movie_df"
   ]
  },
  {
   "cell_type": "code",
   "execution_count": null,
   "metadata": {},
   "outputs": [],
   "source": [
    "netflix_TV_df = netflix_df.loc[netflix_df[\"type\"] == 'TV Show', :]\n",
    "netflix_TV_df"
   ]
  },
  {
   "cell_type": "code",
   "execution_count": null,
   "metadata": {},
   "outputs": [],
   "source": []
  },
  {
   "cell_type": "code",
   "execution_count": null,
   "metadata": {},
   "outputs": [],
   "source": []
  },
  {
   "cell_type": "code",
   "execution_count": null,
   "metadata": {},
   "outputs": [],
   "source": []
  },
  {
   "cell_type": "code",
   "execution_count": null,
   "metadata": {},
   "outputs": [],
   "source": []
  },
  {
   "cell_type": "code",
   "execution_count": null,
   "metadata": {},
   "outputs": [],
   "source": [
    "votes_by_certification = imdb_df.groupby('age_certification')['imdb_votes'].sum()\n",
    "print(votes_by_certification)\n"
   ]
  },
  {
   "cell_type": "code",
   "execution_count": null,
   "metadata": {},
   "outputs": [],
   "source": [
    "votes_by_certification.plot(kind='bar', color='skyblue')\n",
    "\n",
    "# Add labels and title\n",
    "plt.xlabel('Age Certification')\n",
    "plt.ylabel('Total IMDb Votes')\n",
    "plt.title('Total IMDb Votes by Age Certification')\n",
    "\n",
    "# Show plot\n",
    "plt.show()"
   ]
  },
  {
   "cell_type": "code",
   "execution_count": null,
   "metadata": {},
   "outputs": [],
   "source": [
    "popular_netflix = netflix_movie_df['rating'].value_counts()[0:10]\n",
    "print(popular_netflix)"
   ]
  },
  {
   "cell_type": "code",
   "execution_count": null,
   "metadata": {},
   "outputs": [],
   "source": [
    "popular_netflix.head(10).plot(kind='bar', color='skyblue')\n",
    "\n",
    "# Add labels and title\n",
    "plt.xlabel('Age Rating')\n",
    "plt.ylabel('Count')\n",
    "plt.title('Total Netflix Movies by Age Rating')\n",
    "\n",
    "# Show plot\n",
    "plt.show()"
   ]
  },
  {
   "cell_type": "code",
   "execution_count": null,
   "metadata": {},
   "outputs": [],
   "source": [
    "# import plotly.express as px\n",
    "\n",
    "# # Assuming 'top_50_df' is your DataFrame containing relevant data\n",
    "\n",
    "# fig = px.scatter(imdb_df, x='imdb_votes', y='release_year',\n",
    "#                  hover_data=['imdb_votes','title'], color='imdb_score',\n",
    "#                  color_continuous_scale=['blue', 'green'],\n",
    "#                  labels={'release_year': 'Release Year', 'imdb_votes':'IMDB Votes'},\n",
    "#                  height=400)\n",
    "\n",
    "# # Update layout to change the number scale on the x-axis\n",
    "# fig.update_layout(title='IMDB Top Movies and TV shows', plot_bgcolor='rgb(0, 0, 0)',\n",
    "#                   xaxis=dict(\n",
    "#                     #   tickvals=[1000, 25000, 50000, 100000, 200000, 400000],  # Desired tick values\n",
    "#                       ticktext=['1k', '25k', '50k', '100k', '200k', '400k'],  # Corresponding tick labels\n",
    "#                       title='IMDB Votes'  # X-axis title\n",
    "#                   ))\n",
    "\n",
    "# fig.show()\n"
   ]
  },
  {
   "cell_type": "code",
   "execution_count": null,
   "metadata": {},
   "outputs": [],
   "source": [
    "# import pandas as pd\n",
    "# import plotly.express as px\n",
    "\n",
    "# # Group by 'title' and select the maximum number of 'imdb_votes'\n",
    "# DF = netflix_df.groupby(\"title\")[\"country\"].max().sort_values(ascending=False).reset_index()\n",
    "\n",
    "# # # Remove null values\n",
    "# # DF.dropna(subset=['country'], inplace=True)\n",
    "\n",
    "# # Create pie chart using Plotly Express\n",
    "# fig = px.pie(DF,\n",
    "#              values='title',\n",
    "#              names='country',\n",
    "#              hover_data=['title'],\n",
    "#              labels={'title': 'Title'}\n",
    "#             )\n",
    "\n",
    "# # Update pie chart layout\n",
    "# fig.update_traces(textposition='inside',\n",
    "#                   textinfo='percent+label'\n",
    "#                  )\n",
    "# fig.update_layout(title='<b>Distribution of IMDb Scores by Country',\n",
    "#                   titlefont={'size': 24, 'family': 'Serif'},\n",
    "#                   showlegend=True, \n",
    "#                   width=600, \n",
    "#                   height=600)\n",
    "# annotations = []\n",
    "# annotations.append(dict(xref='paper', yref='paper',\n",
    "#                         x=0.12, y=1.03,\n",
    "#                         text=\"<i>'\",\n",
    "#                         font=dict(family='Arial', size=14, color='black'),\n",
    "#                         showarrow=False)\n",
    "#                   )\n",
    "# fig.update_layout(annotations=annotations)\n",
    "\n",
    "# # Show the pie chart\n",
    "# fig.show()\n"
   ]
  },
  {
   "cell_type": "code",
   "execution_count": null,
   "metadata": {},
   "outputs": [],
   "source": [
    "# oldest = netflix_df.sort_values(by='release_year', ascending=True)\n",
    "# oldest"
   ]
  },
  {
   "cell_type": "code",
   "execution_count": null,
   "metadata": {},
   "outputs": [],
   "source": [
    "# votes= imdb_df.sort_values(by='imdb_votes', ascending=False)\n",
    "# votes"
   ]
  }
 ],
 "metadata": {
  "kernelspec": {
   "display_name": "Python 3 (ipykernel)",
   "language": "python",
   "name": "python3"
  },
  "language_info": {
   "codemirror_mode": {
    "name": "ipython",
    "version": 3
   },
   "file_extension": ".py",
   "mimetype": "text/x-python",
   "name": "python",
   "nbconvert_exporter": "python",
   "pygments_lexer": "ipython3",
   "version": "3.10.13"
  }
 },
 "nbformat": 4,
 "nbformat_minor": 4
}
